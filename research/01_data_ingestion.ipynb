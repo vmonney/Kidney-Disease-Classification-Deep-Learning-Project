{
 "cells": [
  {
   "cell_type": "code",
   "execution_count": 1,
   "metadata": {},
   "outputs": [
    {
     "data": {
      "text/plain": [
       "'/Users/valentinmonney/Documents/data_science/python/MachineLearningProjects/Kidney-Disease-Classification-Deep-Learning-Project'"
      ]
     },
     "execution_count": 1,
     "metadata": {},
     "output_type": "execute_result"
    }
   ],
   "source": [
    "import os\n",
    "os.chdir(\"../\")\n",
    "%pwd"
   ]
  },
  {
   "cell_type": "code",
   "execution_count": 3,
   "metadata": {},
   "outputs": [],
   "source": [
    "from dataclasses import dataclass\n",
    "from pathlib import Path\n",
    "\n",
    "\n",
    "@dataclass(frozen=True)\n",
    "class DataIngestionConfig:\n",
    "    \"\"\"Configuration class for data ingestion.\"\"\"\n",
    "\n",
    "    root_dir: Path\n",
    "    source_url: str\n",
    "    local_data_file: Path\n",
    "    unzip_dir: Path"
   ]
  },
  {
   "cell_type": "code",
   "execution_count": 4,
   "metadata": {},
   "outputs": [],
   "source": [
    "from cnn_classifier.constants import *\n",
    "from cnn_classifier.utils.common import read_yaml, create_directories"
   ]
  },
  {
   "cell_type": "code",
   "execution_count": 5,
   "metadata": {},
   "outputs": [],
   "source": [
    "class ConfigurationManager:\n",
    "    \"\"\"Class for managing configuration settings.\"\"\"\n",
    "\n",
    "    def __init__(\n",
    "        self,\n",
    "        config_filepath: str = CONFIG_FILE_PATH,\n",
    "        params_filepath: str = PARAMS_FILE_PATH,\n",
    "    ) -> None:\n",
    "        \"\"\"Initialize the ConfigurationManager class.\n",
    "\n",
    "        Args:\n",
    "        ----\n",
    "            config_filepath: The path to the configuration file.\n",
    "            params_filepath: The path to the parameters file.\n",
    "        \"\"\"\n",
    "        self.config = read_yaml(config_filepath)\n",
    "        self.params = read_yaml(params_filepath)\n",
    "\n",
    "        create_directories([self.config.artifacts_root])\n",
    "\n",
    "    def get_data_ingestion_config(self) -> DataIngestionConfig:\n",
    "        \"\"\"Return the data ingestion configuration.\"\"\"\n",
    "        config = self.config.data_ingestion\n",
    "\n",
    "        create_directories([config.root_dir])\n",
    "\n",
    "        return DataIngestionConfig(\n",
    "            root_dir=config.root_dir,\n",
    "            source_url=config.source_url,\n",
    "            local_data_file=config.local_data_file,\n",
    "            unzip_dir=config.unzip_dir,\n",
    "        )"
   ]
  },
  {
   "cell_type": "code",
   "execution_count": 7,
   "metadata": {},
   "outputs": [
    {
     "name": "stdout",
     "output_type": "stream",
     "text": [
      "[2023-10-18 11:55:17,471: INFO: common] json file loaded succesfully from: /Users/valentinmonney/.kaggle/kaggle.json\n"
     ]
    }
   ],
   "source": [
    "\"\"\"DataIngestion class, which download and extract data for the CNN classifier.\"\"\"\n",
    "\n",
    "import zipfile\n",
    "\n",
    "# from cnn_classifier.entity.config_entity import DataIngestionConfig\n",
    "from cnn_classifier.utils.common import load_json, get_size\n",
    "from cnn_classifier import logger\n",
    "from pathlib import Path\n",
    "import kaggle\n",
    "\n",
    "kaggle_config_path = Path.home() / \".kaggle\" / \"kaggle.json\"\n",
    "config = load_json(kaggle_config_path)\n",
    "kaggle_username = config.username\n",
    "kaggle_key = config.key"
   ]
  },
  {
   "cell_type": "code",
   "execution_count": 12,
   "metadata": {},
   "outputs": [],
   "source": [
    "class DataIngestion:\n",
    "    \"\"\"Class for downloading and extracting data for the CNN classifier.\"\"\"\n",
    "\n",
    "    def __init__(self, config: DataIngestionConfig) -> None:\n",
    "        \"\"\"Initialize the DataIngestion class with a configuration object.\"\"\"\n",
    "        self.config = config\n",
    "\n",
    "    def download_file(self) -> None:\n",
    "        \"\"\"Download file from URL if not exist locally.\"\"\"\n",
    "        if not Path(self.config.local_data_file).exists():\n",
    "            dataset_path = self.config.source_url\n",
    "            destination_folder = self.config.root_dir\n",
    "            kaggle.api.dataset_download_files(\n",
    "                dataset_path, path=destination_folder, unzip=False\n",
    "            )\n",
    "\n",
    "            logger.info(\"zip data downloaded!\")\n",
    "        else:\n",
    "            logger.info(\n",
    "                f\"zip data already exists with size: \"\n",
    "                f\"{get_size(Path(self.config.local_data_file))}\",\n",
    "            )\n",
    "\n",
    "    def extract_zip_file(self) -> None:\n",
    "        \"\"\"Extract the zip file into the data directory.\n",
    "\n",
    "        Returns\n",
    "        -------\n",
    "          None\n",
    "        \"\"\"\n",
    "        unzip_path = self.config.unzip_dir\n",
    "        Path(unzip_path).mkdir(parents=True, exist_ok=True)\n",
    "        with zipfile.ZipFile(self.config.local_data_file, \"r\") as zip_ref:\n",
    "            zip_ref.extractall(unzip_path)"
   ]
  },
  {
   "cell_type": "code",
   "execution_count": 13,
   "metadata": {},
   "outputs": [
    {
     "name": "stdout",
     "output_type": "stream",
     "text": [
      "[2023-10-18 12:17:34,343: INFO: 425422528] >>>>>> stage Data Ingestion started <<<<<<\n",
      "[2023-10-18 12:17:34,350: INFO: common] yaml file: config/config.yaml loaded successfully\n",
      "[2023-10-18 12:17:34,353: INFO: common] yaml file: params.yaml loaded successfully\n",
      "[2023-10-18 12:17:34,354: INFO: common] created directory at: artifacts\n",
      "[2023-10-18 12:17:34,355: INFO: common] created directory at: artifacts/data_ingestion\n",
      "[2023-10-18 12:18:15,162: INFO: 1470172067] zip data downloaded!\n",
      "[2023-10-18 12:18:28,469: INFO: 425422528] >>>>>> stage Data Ingestion completed <<<<<<\n",
      "\n",
      "x==========x\n"
     ]
    }
   ],
   "source": [
    "STAGE_NAME = \"Data Ingestion\"\n",
    "\n",
    "\n",
    "class DataIngestionTrainingPipeline:\n",
    "    \"\"\"Data ingestion training pipeline.\"\"\"\n",
    "\n",
    "    def __init__(self) -> None:\n",
    "        \"\"\"Initialize the DataIngestionTrainingPipeline class.\"\"\"\n",
    "\n",
    "    def main(self) -> None:\n",
    "        \"\"\"Run the data ingestion pipeline.\"\"\"\n",
    "        config = ConfigurationManager()\n",
    "        data_ingestion_config = config.get_data_ingestion_config()\n",
    "        data_ingestion = DataIngestion(config=data_ingestion_config)\n",
    "        data_ingestion.download_file()\n",
    "        data_ingestion.extract_zip_file()\n",
    "\n",
    "\n",
    "try:\n",
    "    logger.info(f\">>>>>> stage {STAGE_NAME} started <<<<<<\")\n",
    "    obj = DataIngestionTrainingPipeline()\n",
    "    obj.main()\n",
    "    logger.info(f\">>>>>> stage {STAGE_NAME} completed <<<<<<\\n\\nx==========x\")\n",
    "except Exception as e:\n",
    "    logger.exception(e)\n",
    "    raise"
   ]
  }
 ],
 "metadata": {
  "kernelspec": {
   "display_name": "kidney",
   "language": "python",
   "name": "python3"
  },
  "language_info": {
   "codemirror_mode": {
    "name": "ipython",
    "version": 3
   },
   "file_extension": ".py",
   "mimetype": "text/x-python",
   "name": "python",
   "nbconvert_exporter": "python",
   "pygments_lexer": "ipython3",
   "version": "3.8.18"
  }
 },
 "nbformat": 4,
 "nbformat_minor": 2
}
